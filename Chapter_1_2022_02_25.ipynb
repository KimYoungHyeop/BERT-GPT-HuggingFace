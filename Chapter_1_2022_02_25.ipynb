{
  "nbformat": 4,
  "nbformat_minor": 0,
  "metadata": {
    "colab": {
      "name": "Chapter_1_2022_02_25.ipynb",
      "provenance": [],
      "collapsed_sections": [],
      "authorship_tag": "ABX9TyO3ZKGqTDVXlABnyznGeNaB"
    },
    "kernelspec": {
      "name": "python3",
      "display_name": "Python 3"
    },
    "language_info": {
      "name": "python"
    }
  },
  "cells": [
    {
      "cell_type": "markdown",
      "source": [
        "## <1-4 개발 환경 설정>  \n",
        "\n",
        "이번 절에서는 이 책의 실습 환경인 구글 코랩을 중심으로 자연어 처리 개발 환경을 살펴보겠습니다."
      ],
      "metadata": {
        "id": "z33eaEgPXWs9"
      }
    },
    {
      "cell_type": "markdown",
      "source": [
        "### 코랩이란?\n",
        "---  \n",
        "코랩(colab)은 'Colaboratory'의 준말로 구글에서 서비스하는 가상 컴퓨팅 환경입니다. 코랩을 사용하면 누구나 크롬 등 웹 브라우저에서 파이썬 코드를 작성하고 실행할 수 있습니다. GPU는 물론 TPU 학습도 할 수 있습니다.  \n",
        "\n",
        "코랩은 구글 계정만 있으면 누구나 사용할 수 있는데요, 코랩을 유료 계정으로 사용한다면 좀 더 나은 GPU를 할당받는 등의 혜탹이 있습니다. 게다가 운영체제 설치, 의존성 있는 소프트웨어 설치 등 환경 구축을 별도로 할 필요가 없어서 컴퓨팅 자원이 부족하거나 개발 환경 설정에 어려움이 있는 사람도 유용하게 사용할 수 있습니다."
      ],
      "metadata": {
        "id": "mZpw6ZuQXxUk"
      }
    },
    {
      "cell_type": "markdown",
      "source": [
        "### 구글 드라이브와 연결하기\n",
        "---  \n",
        "코랩 노트북에서 아무것도 실행하지 않은 채 일정 시간이 흐르면 해당 노트가 초기화됩니다. 당시까지의 모든 실행 결과물들이 없어질 수 있다는 이야기입니다. 따라서 중간 결과물을 어딘가에 저장해 두는 것이 좋습니다.  \n",
        "\n",
        "코랩은 구글 드라이브와 연동이 다른 저장 매체보다 쉬운 편입니다. 일단 코랩 노트에 다음과 같은 코드를 실행해 봅시다. 그러면 실행 결과에서 'Go to this URL in a browser'라는 메시지 뒤에 링크가 표시됩니다."
      ],
      "metadata": {
        "id": "L36Mvf2dYcj_"
      }
    },
    {
      "cell_type": "code",
      "execution_count": 1,
      "metadata": {
        "colab": {
          "base_uri": "https://localhost:8080/"
        },
        "id": "KxW0vuOfWphD",
        "outputId": "cd971ee9-a4f9-4211-96b3-e746d5d462a7"
      },
      "outputs": [
        {
          "output_type": "stream",
          "name": "stdout",
          "text": [
            "Mounted at /gdrive\n"
          ]
        }
      ],
      "source": [
        "#구글 드라이브와 연결\n",
        "from google.colab import drive\n",
        "drive.mount('/gdrive', force_remount=True)"
      ]
    },
    {
      "cell_type": "code",
      "source": [
        "#구글 드라이브에 파일 쓰기\n",
        "with open('/gdrive/My Drive/test.txt', 'w') as f:\n",
        "  f.writelines(\"test\")"
      ],
      "metadata": {
        "id": "pbyYc1H1XWTm"
      },
      "execution_count": 2,
      "outputs": []
    },
    {
      "cell_type": "code",
      "source": [
        ""
      ],
      "metadata": {
        "id": "5EbTWdjBXWWP"
      },
      "execution_count": null,
      "outputs": []
    },
    {
      "cell_type": "code",
      "source": [
        ""
      ],
      "metadata": {
        "id": "W0ANFbMvZU_d"
      },
      "execution_count": null,
      "outputs": []
    },
    {
      "cell_type": "code",
      "source": [
        ""
      ],
      "metadata": {
        "id": "_cnkr5qyXWYl"
      },
      "execution_count": null,
      "outputs": []
    },
    {
      "cell_type": "code",
      "source": [
        ""
      ],
      "metadata": {
        "id": "pDPT8KzAXWa8"
      },
      "execution_count": null,
      "outputs": []
    }
  ]
}