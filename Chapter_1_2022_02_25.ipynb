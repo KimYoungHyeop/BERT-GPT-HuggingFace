{
  "nbformat": 4,
  "nbformat_minor": 0,
  "metadata": {
    "colab": {
      "name": "Chapter_1_2022_02_25.ipynb",
      "provenance": [],
      "collapsed_sections": [],
      "authorship_tag": "ABX9TyMkT3k8w1ecHMQdbvtKn8hj"
    },
    "kernelspec": {
      "name": "python3",
      "display_name": "Python 3"
    },
    "language_info": {
      "name": "python"
    }
  },
  "cells": [
    {
      "cell_type": "markdown",
      "source": [
        "## <1-4 개발 환경 설정>  \n",
        "\n",
        "이번 절에서는 이 책의 실습 환경인 구글 코랩을 중심으로 자연어 처리 개발 환경을 살펴보겠습니다."
      ],
      "metadata": {
        "id": "z33eaEgPXWs9"
      }
    },
    {
      "cell_type": "markdown",
      "source": [
        "### 코랩이란?\n",
        "---  \n",
        "코랩(colab)은 'Colaboratory'의 준말로 구글에서 서비스하는 가상 컴퓨팅 환경입니다. 코랩을 사용하면 누구나 크롬 등 웹 브라우저에서 파이썬 코드를 작성하고 실행할 수 있습니다. GPU는 물론 TPU 학습도 할 수 있습니다.  \n",
        "\n",
        "코랩은 구글 계정만 있으면 누구나 사용할 수 있는데요, 코랩을 유료 계정으로 사용한다면 좀 더 나은 GPU를 할당받는 등의 혜탹이 있습니다. 게다가 운영체제 설치, 의존성 있는 소프트웨어 설치 등 환경 구축을 별도로 할 필요가 없어서 컴퓨팅 자원이 부족하거나 개발 환경 설정에 어려움이 있는 사람도 유용하게 사용할 수 있습니다."
      ],
      "metadata": {
        "id": "mZpw6ZuQXxUk"
      }
    },
    {
      "cell_type": "markdown",
      "source": [
        "### 구글 드라이브와 연결하기\n",
        "---  \n",
        "코랩 노트북에서 아무것도 실행하지 않은 채 일정 시간이 흐르면 해당 노트가 초기화됩니다. 당시까지의 모든 실행 결과물들이 없어질 수 있다는 이야기입니다. 따라서 중간 결과물을 어딘가에 저장해 두는 것이 좋습니다.  \n",
        "\n",
        "코랩은 구글 드라이브와 연동이 다른 저장 매체보다 쉬운 편입니다. 일단 코랩 노트에 다음과 같은 코드를 실행해 봅시다. 그러면 실행 결과에서 'Go to this URL in a browser'라는 메시지 뒤에 링크가 표시됩니다."
      ],
      "metadata": {
        "id": "L36Mvf2dYcj_"
      }
    },
    {
      "cell_type": "code",
      "execution_count": 1,
      "metadata": {
        "colab": {
          "base_uri": "https://localhost:8080/"
        },
        "id": "KxW0vuOfWphD",
        "outputId": "cd971ee9-a4f9-4211-96b3-e746d5d462a7"
      },
      "outputs": [
        {
          "output_type": "stream",
          "name": "stdout",
          "text": [
            "Mounted at /gdrive\n"
          ]
        }
      ],
      "source": [
        "#구글 드라이브와 연결\n",
        "from google.colab import drive\n",
        "drive.mount('/gdrive', force_remount=True)"
      ]
    },
    {
      "cell_type": "markdown",
      "source": [
        "이제 파일을 써보는 연습을 해보겠습니다. 코랩 노트에 다음과 같은 코드를 작성한 후 실행해 보세요. 그러면 구글 드라이브의 '내 드라이브'에 test.txt' 파일이 만들어집니다."
      ],
      "metadata": {
        "id": "dnQ9ILkKZqjQ"
      }
    },
    {
      "cell_type": "code",
      "source": [
        "#구글 드라이브에 파일 쓰기\n",
        "with open('/gdrive/My Drive/test.txt', 'w') as f:\n",
        "  f.writelines(\"test\")"
      ],
      "metadata": {
        "id": "pbyYc1H1XWTm"
      },
      "execution_count": 2,
      "outputs": []
    },
    {
      "cell_type": "markdown",
      "source": [
        "마찬가지로 구글 드라이브에 업로드한 파일도 얼마든지 코랩 노트북에서 읽어올 수 있습니다."
      ],
      "metadata": {
        "id": "LRkeC79caAIB"
      }
    },
    {
      "cell_type": "markdown",
      "source": [
        "### 코랩 노트북 복사하기\n",
        "---  \n",
        "이 책의 2장부터는 각 실습에서 필자가 만든 코랩 노트북의 링크를 제공합니다. 하지만 해당 노트북은 읽기 권한만 있으므로 실행하거나 내용을 고칠 수가 없습니다. 노트북을 복사해 내 것으로 만들면 이 문제를 해결할 수 있습니다.  \n",
        "\n",
        "실습에서 제공하는 코랩 노트북 링크를 클릭한 후 자신의 구글 아아디로 로그인하면 그림과 같이 화면을 볼 수 있습니다. 여기서 **[드라이브 복사]** 를 누르면 코랩 노트북이 자신의 드라이브에 복사됩니다. 별도로 설정하지 않았다면 해당 노트북은 '내 드라이브/Colab Notebooks' 디렉토리에 담깁니다."
      ],
      "metadata": {
        "id": "95iQJ4YdaEEI"
      }
    },
    {
      "cell_type": "markdown",
      "source": [
        "### 알아두면 좋아요!\n",
        "---\n",
        "이 책은 딥러닝이나 파이토치 지식이 없어도 내용을 이해하거나 코드 실습에는 지장이 없도록 최선을 다했습니다. 다만 관련 지식이 있으면 훨씬 수월하게 학습할 수 있습니다. 가장 빠른 방법은 파이토치로 딥러닝 기본을 공부하는 것입니다. 최근엔 자료가 많아졌지만 '모두를 위한 딥러닝 시즌2 - PyTorch'를 우선 추천해 드립니다.  \n",
        "\n",
        ">**모두를 위한 딥러닝 시즌 - PyTorch:**  \n",
        ">deeplearningzerotoall.github.io/season2/lec_pytorch.html \n",
        "\n",
        "이 강의로 어느 정도 기본을 다졌다면 그다음 좋은 자료는 파이토치 공식 듀토리얼을 꼽을 수 있습니다. 공식 듀토리얼에는 텐서(tensor), 데이터셋(dataset), 데이터 로더(dataloader), 자동 미분(autograd), 최적화(optimization), 모델 저장 및 로딩 등 파이토치 기본 문법이 쉽게 정리돼 있습니다. 자연어 처리(텍스트)는 물론 이미지, 비디오, 오디오 관련 모델 듀토리얼도 공부해볼 수 있습니다. 영문 듀토리얼이 한글로 번역돼 있어 접근성 역시 좋습니다. 다음 링크로 접속할 수 있습니다.  \n",
        "\n",
        ">**파이토치 한국어 공식 듀토리얼:** tutorials.pytorch.kr \n",
        "\n",
        "파이토치는 딥러닝 모델을 쉽게 다를 수 있도록 하는 파이썬 라이브러리입니다. "
      ],
      "metadata": {
        "id": "5vDhZR2BbXsQ"
      }
    }
  ]
}