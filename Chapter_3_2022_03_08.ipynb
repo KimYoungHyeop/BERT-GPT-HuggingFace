{
  "nbformat": 4,
  "nbformat_minor": 0,
  "metadata": {
    "colab": {
      "name": "Chapter_3_2022_03_08.ipynb",
      "provenance": [],
      "collapsed_sections": [],
      "authorship_tag": "ABX9TyPqvKcVMFkRIcjEBVane9fl"
    },
    "kernelspec": {
      "name": "python3",
      "display_name": "Python 3"
    },
    "language_info": {
      "name": "python"
    }
  },
  "cells": [
    {
      "cell_type": "markdown",
      "source": [
        "@ 2022_03_07 내용 이어짐!\n",
        "\n",
        "각 단어 벡터는 블록 내에서 어떤 계산 과정을 거쳐 쿼리, 키, 벨류 3가지로 변환됩니다. 만일 트랜스포머 블록에 입력되는 문장이 6개 단어로 구성돼 있다면 이 블록의 셀프 어텐션 계산 대상은 쿼리 벡터 6개, 키 벡터 6개, 벨류 벡터 6개 등 모두 18개가 됩니다.  \n",
        "\n",
        "다음 그림은 그림 3-21을 좀 더 자세하게 그린 것입니다. 셀프 어텐션은 쿼리 단어 각각을 대상으로 모든 키 단어의 얼마나 유기적인 관계를 맺는지 그 합이 1인 확률값으로 나타냅니다.  \n",
        "그림을 보면 **카페**라는 쿼리 단어와 가장 관련이 높은 키 단어는 **거기**라는 점(0.4)을 확인할 수 있습니다."
      ],
      "metadata": {
        "id": "Ffu7RWEKzb50"
      }
    },
    {
      "cell_type": "markdown",
      "source": [
        "<center><그림 3-22 셀프 어텐션 계산 예시></center>  \n",
        "\n",
        "|쿼리|키|\n",
        "|:---:|:---:|\n",
        "|어제|어제|\n",
        "|카페|카페|\n",
        "|갔었어|갔었어|\n",
        "|거기|거기|\n",
        "|사람|사람|\n",
        "|많더라|많더라|  \n",
        "\n",
        "<center>cf) 쿼리의 '카페'에서 직선들이 뻗어가는 느낌으로 그려짐!</center>"
      ],
      "metadata": {
        "id": "L5XJXy11zc1M"
      }
    },
    {
      "cell_type": "markdown",
      "source": [
        "셀프 어텐션 모듈은 이러한 결과에 밸류 벡터들을 ***가중합(weighted sum)*** 하는 방식으로 계산을 마무리합니다.  \n",
        "이를 다음 수식처럼 나타낼 수 있습니다. 새롭게 만들어지는 **카페** 벡터($Z_{카페}$)는 문장에 속한 단어와 **카페** 사이의 관계가 녹아 있습니다.  \n",
        "\n",
        "cf) 가중합이란 복수의 수(혹은 벡터/행렬)를 단순히 합하는 것이 아니라 각각에 어떤 가중치를 곱한 후, 이 곱셈 결과들을 합한 것을 가리킵니다!"
      ],
      "metadata": {
        "id": "dzgkNchrzc3k"
      }
    },
    {
      "cell_type": "markdown",
      "source": [
        "<center><수식 3-6 셀프 어텐션 계산 예시></center>  \n",
        "\n",
        "<center>$Z_{카페}$ = 0.1 X $V_{어제}$ + 0.1 X $V_{카페}$ + 0.2 X $V_{갔었어}$ + 0.4 X $V_{거기}$ + 0.1 X $V_{사람}$ + 0.1 X $V_{많더라}$</center>  "
      ],
      "metadata": {
        "id": "2biMeN9vzc6P"
      }
    },
    {
      "cell_type": "markdown",
      "source": [
        "여기서는 **카페**에 대해서만 계산 예를 들었지만 이러한 방식으로 나머지 단어들도 셀프 어텐션을 각각 수행합니다. 모든 시퀀스를 대상으로 셀프 어텐션 계산이 끝나면 그 결과를 다음 블록으로 넘깁니다. 이처럼 트랜스포머 모델은 셀프 어텐션을 블록(layer)수만큼 반복합니다."
      ],
      "metadata": {
        "id": "fnc_qjcJzc8t"
      }
    },
    {
      "cell_type": "markdown",
      "source": [
        ""
      ],
      "metadata": {
        "id": "vkVTeLWvzc_J"
      }
    }
  ]
}