{
  "nbformat": 4,
  "nbformat_minor": 0,
  "metadata": {
    "colab": {
      "name": "Chapter_3_2022_03_11.ipynb",
      "provenance": [],
      "collapsed_sections": [],
      "authorship_tag": "ABX9TyPX8Ca1gFjv0mbnHt4t79X1"
    },
    "kernelspec": {
      "name": "python3",
      "display_name": "Python 3"
    },
    "language_info": {
      "name": "python"
    }
  },
  "cells": [
    {
      "cell_type": "markdown",
      "source": [
        "#### (1) 첫 번째 쿼리의 셀프 어텐션 출력값 계산하기  \n",
        "\n",
        "이제 셀프 어텐션을 계산할 준비가 모두 끝났습니다.  \n",
        "다음 수식은 셀프 어텐션의 정의입니다."
      ],
      "metadata": {
        "id": "Dba6CKYAJIv1"
      }
    },
    {
      "cell_type": "markdown",
      "source": [
        "<center><수식 3-15 셀프 어텐션 정의></center>  \n",
        "\n",
        "<center>Attention($Q, K, V$) = softmax($\\frac{QK^T}{\\sqrt{d_k}}$)$V$</center>\n"
      ],
      "metadata": {
        "id": "tO5xm5seJJbn"
      }
    },
    {
      "cell_type": "markdown",
      "source": [
        "수식 3-15를 말로 풀면 이렇습니다.  \n",
        "쿼리와 키를 행렬곱한 뒤 해당 행렬의 모든 요솟값을 키차원 수의 제곱근으로 나누고, 이 행렬을 행 단위로 소프트맥스를 취해 스코어 행렬어 만들어 줍니다. 이 스코어 행렬에 밸류를 행렬곱하면 셀프 어텐션 계산을 마칩니다."
      ],
      "metadata": {
        "id": "M4-YIDZvJJd-"
      }
    },
    {
      "cell_type": "markdown",
      "source": [
        "***소프트맥스(softmax)*** 란 입력 벡터의 모든 요솟값 범위를 0~1로 하고 총합을 1이 되게끔 하는 함수입니다. 어떤 입력이든 소프트맥스 함수를 적용하면 해당 값이 확률로 변환됩니다. 입력 벡터 $X$의 $i$번째 요솟값에 소프트맥스를 취한 결과는 다음 식과 같습니다."
      ],
      "metadata": {
        "id": "caFj9LE2JJg1"
      }
    },
    {
      "cell_type": "markdown",
      "source": [
        "<center><수식 3-16 소프트맥스 함수></center>  \n",
        "\n",
        "<center>softmax($X_i$) = $\\frac{exp(X_i)}{\\sum_{j}exp(X_j)}$</center>  "
      ],
      "metadata": {
        "id": "zYQy-W0BJJje"
      }
    },
    {
      "cell_type": "markdown",
      "source": [
        "수식 3-12의 쿼리 벡터 3개 가운데 첫 번째 쿼리만 가지고 셀프 어텐션 계산을 수행해 보겠습니다(수식 3-17 ~ 3-19).  \n",
        "다음 수식은 '첫 번째 쿼리 벡터'와 '모든 키 벡터에 전치(transpose)를 취한 행렬($K^T$)'을 행렬곱한 결과입니다. 여기에서 전치란 원래 행렬의 행과 열을 교환해 주는 걸 뜻합니다."
      ],
      "metadata": {
        "id": "9gj99L4GJJl9"
      }
    },
    {
      "cell_type": "markdown",
      "source": [
        "<center><수식 3-17 첫 번째 쿼리 벡터에 관한 셀프 어텐션 계산(1)></center>  \n",
        "\n",
        "수식 3-17에서 우변에 있는 벡터의 첫 번째 요솟값(2)은 첫 번째 쿼리 벡터와 첫 번째 키 벡터 사이의 문맥적 관계성이 녹아든 결과입니다. 두 번째 요솟값(4)은 첫 번째 쿼리 벡터와 두 번째 키 벡터, 세 번째 요솟값(4)은 첫 번째 쿼리 벡터와 세 번째 키 벡터 사이의 문맥적 관계성이 포함되어 있습니다.\n"
      ],
      "metadata": {
        "id": "pOVXvL2VJJoI"
      }
    },
    {
      "cell_type": "markdown",
      "source": [
        "다음 수식은 앞선 결과에 키 벡터의 차원 수 ($d_k=3$)의 제곱근으로 나눈 후 소프트맥스를 취해 만든 벡터입니다."
      ],
      "metadata": {
        "id": "bX7Gu0fhJJqc"
      }
    },
    {
      "cell_type": "markdown",
      "source": [
        "<center><수식 3-18 첫 번째 쿼리 벡터에 관한 셀프 어텐션 계산(2)></center>  \n",
        "\n",
        "<center>softmax$\\left(\\left[\\frac{2}{\\sqrt3} \\frac{4}{\\sqrt3} \\frac{4}{\\sqrt3}\\right]\\right)$  =  [0.13613 0.43194 0.43194]</center>"
      ],
      "metadata": {
        "id": "K-olg-NMJJsw"
      }
    },
    {
      "cell_type": "markdown",
      "source": [
        "첫 번째 쿼리 벡터에 대한 셀프 어텐션 계산의 마지막은 수식 3-19와 같습니다. 수식 3-18의 소프트맥스 벡터와 수식 3-14의 밸류 벡터들을 행렬곱해서 계산을 수행합니다. 이는 소프트맥스 벡터의 각 요솟값에 대응하는 밸류 벡터들을 가중합한 결과와 같습니다.  \n",
        " 다시 말해 다음 수식은 0.13613 $\\times$ [1 2 3] + 0.43194 $\\times$ [2 8 0] + 0.43194 $\\times$ [2 6 3]과 동일한 결과라는 이야기입니다."
      ],
      "metadata": {
        "id": "O9UNh5xlTm3X"
      }
    },
    {
      "cell_type": "markdown",
      "source": [
        "<center><수식 3-19 첫 번째 쿼리 벡터에 관한 셀프 어텐션 계산(3)></center>  \n",
        "\n",
        "$$\\begin{bmatrix} 0.13613 & 0.43194 & 0.43194 \\end{bmatrix} \\times \\begin{bmatrix} 1 & 2 & 3 \\\\ 2 & 8 & 0 \\\\ 2 & 6 & 3 \\end{bmatrix} = \\begin{bmatrix} 1.8639 & 6.3194 & 1.7042 \\end{bmatrix}$$"
      ],
      "metadata": {
        "id": "qcmYrRkgTmXh"
      }
    },
    {
      "cell_type": "markdown",
      "source": [
        "#### (3) 두 번째 쿼리의 셀프 어텐션 출력값 계산하기   \n",
        "\n",
        "이번에는 수식 3-12의 두 번째 쿼리 벡터에 대해 셀프 어텐션 계산을 해보겠습니다. 다음 수식은 '두 번째 쿼리 벡터'와 '모든 키 벡터에 전치를 취한 행렬($K^T$)'을 행렬곱한 결과입니다. 우변에 있는 벡터의 첫 번째 요솟값(4)은 두 번째 쿼리 벡터와 첫 번째 키 벡터 사이의 문맥적 관계성이 녹아든 결과입니다. 두 번째 요솟값(16)은 두 번째 쿼리 벡터와 두 번째 키 벡터 사이, 세 번째 요솟값(12)은 두 번째 쿼리 벡터와 세 번째 키 벡터 사이의 문맥적 관계성이 포함돼 있습니다."
      ],
      "metadata": {
        "id": "GB5gHuhATmZo"
      }
    },
    {
      "cell_type": "markdown",
      "source": [
        "<center><수식 3-20 두 번째 쿼리 벡터에 관한 셀프 어텐션 계산(1)></center>  \n",
        "\n",
        "$$\\begin{bmatrix} 2 & 2 & 2 \\end{bmatrix} \\times \\begin{bmatrix} 0 & 4 & 2 \\\\ 1 & 4 & 3 \\\\ 1 & 0 & 1 \\end{bmatrix} = \\begin{bmatrix} 4 & 16 & 12 \\end{bmatrix}$$"
      ],
      "metadata": {
        "id": "TmTQz2WnTmbs"
      }
    },
    {
      "cell_type": "markdown",
      "source": [
        "수식 3-21은 앞선 결과에 키 벡터의 차원 수($d_k=3$) 제곱근으로 나눈 후 소프트맥스를 취해 만든 벡터입니다."
      ],
      "metadata": {
        "id": "golTTmwBYyvf"
      }
    },
    {
      "cell_type": "markdown",
      "source": [
        "<center><수식 3-21 두 번째 쿼리 벡터에 관한 셀프 어텐션 계산(2)></center>  \n",
        "\n",
        "<center>softmax$\\left(\\left[\\frac{4}{\\sqrt3} \\frac{16}{\\sqrt3} \\frac{12}{\\sqrt3}\\right]\\right)$  =  [0.00089 0.90884 0.09027]</center>"
      ],
      "metadata": {
        "id": "zK_KQEvBYyxY"
      }
    },
    {
      "cell_type": "markdown",
      "source": [
        "두 번째 쿼리 벡터에 대한 셀프 어텐션 계산의 마지막은 다음 수식과 같습니다.   \n",
        "수식 3-21의 소프트맥스 벡터와 수식 3-14의 밸류 벡터들을 행렬곱해서 계산을 수행합니다. 이는 소프트맥스 벡터의 각 요솟값에 대응하는 밸류 벡터들을 가중합한 결과와 동치입니다."
      ],
      "metadata": {
        "id": "n9uk9quATmdy"
      }
    },
    {
      "cell_type": "markdown",
      "source": [
        "<center><수식 3-22 두 번째 쿼리 벡터에 관한 셀프 어텐션 계산(3)></center>  \n",
        "\n",
        "$$\\begin{bmatrix} 0.00089 & 0.90884 & 0.09027 \\end{bmatrix} \\times \\begin{bmatrix} 1 & 2 & 3 \\\\ 2 & 8 & 0 \\\\ 2 & 6 & 3 \\end{bmatrix} = \\begin{bmatrix} 1.9991 & 7.8141 & 0.2735 \\end{bmatrix}$$\n",
        "\n"
      ],
      "metadata": {
        "id": "vsFyAUBlJJvW"
      }
    },
    {
      "cell_type": "markdown",
      "source": [
        "#### (4) 세 번째 쿼리의 셀프 어텐션 출력값 계산하기   \n",
        "\n",
        "수식 3-12의 마지막 세 번째 쿼리 벡터에 대해 셀프 어텐션 계산을 해보겠습니다. 다음 수식은 '세 번째 쿼리 벡터'와 '모든 키 벡터에 전치를 취한 행렬($K^T$)'을 행렬곱한 결과입니다. 우변에 있는 벡터의 첫 번째 요솟값(4)은 세 번째 쿼리 벡터와 첫 번째 키 벡터 사이의 문맥적 관계성이 녹아든 결과입니다. 두 번째 요솟값(12)은 두 번째 쿼리 벡터와 두 번째 키 벡터 사이, 세 번째 요솟값(10)은 두 번째 쿼리 벡터와 세 번째 키 벡터 사이의 문맥적 관계성이 포함돼 있습니다."
      ],
      "metadata": {
        "id": "kwiB2SyUJJxi"
      }
    },
    {
      "cell_type": "markdown",
      "source": [
        "<center><수식 3-23 세 번째 쿼리 벡터에 관한 셀프 어텐션 계산(1)></center>\n",
        "\n",
        "$$\\begin{bmatrix} 2 & 1 & 3 \\end{bmatrix} \\times \\begin{bmatrix} 0 & 4 & 2 \\\\ 1 & 4 & 3 \\\\ 1 & 0 & 1 \\end{bmatrix} = \\begin{bmatrix} 4 & 12 & 10 \\end{bmatrix}$$"
      ],
      "metadata": {
        "id": "90_RQAeyaogu"
      }
    },
    {
      "cell_type": "markdown",
      "source": [
        "다음 수식은 앞선 결과에 키 벡터의 차원 수($d_k=3$) 제곱근으로 나눈 후 소프트맥스를 취해 만든 확률 벡터입니다."
      ],
      "metadata": {
        "id": "XW2z3m9paojG"
      }
    },
    {
      "cell_type": "markdown",
      "source": [
        "<center><수식 3-24 세 번째 쿼리 벡터에 관한 셀프 어텐션 계산(2)></center>\n",
        "\n",
        "<center>softmax$\\left(\\left[\\frac{4}{\\sqrt3} \\frac{12}{\\sqrt3} \\frac{10}{\\sqrt3}\\right]\\right)$  =  [0.00744 0.75471 0.23785]</center>"
      ],
      "metadata": {
        "id": "3Boku6VqaolV"
      }
    },
    {
      "cell_type": "markdown",
      "source": [
        "세 번째 쿼리 벡터에 대한 셀프 어텐션 계산의 마지막은 다음 수식과 같습니다.   \n",
        "수식 3-24의 소프트맥스 벡터와 수식 3-14의 밸류 벡터들을 행렬곱해서 계산을 수행합니다. 이는 소프트맥스 벡터의 각 요솟값에 대응하는 밸류 벡터들을 가중합한 결과와 동치입니다."
      ],
      "metadata": {
        "id": "eI-MnCB7aonZ"
      }
    },
    {
      "cell_type": "markdown",
      "source": [
        "<center><수식 3-25 세 번째 쿼리 벡터에 관한 셀프 어텐션 계산(3)></center>\n",
        "\n",
        "$$\\begin{bmatrix} 0.00744 & 0.75471 & 0.23785 \\end{bmatrix} \\times \\begin{bmatrix} 1 & 2 & 3 \\\\ 2 & 8 & 0 \\\\ 2 & 6 & 3 \\end{bmatrix} = \\begin{bmatrix} 1.9926 & 7.4796 & 0.7359 \\end{bmatrix}$$"
      ],
      "metadata": {
        "id": "z59vF--taotp"
      }
    },
    {
      "cell_type": "code",
      "execution_count": null,
      "metadata": {
        "id": "XpLyn_PAIzLB"
      },
      "outputs": [],
      "source": [
        ""
      ]
    }
  ]
}